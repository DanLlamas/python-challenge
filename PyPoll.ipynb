{
 "cells": [
  {
   "cell_type": "code",
   "execution_count": 3,
   "metadata": {},
   "outputs": [],
   "source": [
    "# Modules\n",
    "import os\n",
    "import csv"
   ]
  },
  {
   "cell_type": "code",
   "execution_count": 5,
   "metadata": {},
   "outputs": [
    {
     "name": "stdout",
     "output_type": "stream",
     "text": [
      "./election_data.csv\n"
     ]
    }
   ],
   "source": [
    "# Definir\n",
    "\n",
    "file_path = os.path.join(\".\", \"election_data.csv\")\n",
    "print(file_path)\n",
    "\n"
   ]
  },
  {
   "cell_type": "code",
   "execution_count": 30,
   "metadata": {},
   "outputs": [
    {
     "name": "stdout",
     "output_type": "stream",
     "text": [
      "Election Results\n",
      "-------------------------------\n",
      "Total Votes: 3521001\n",
      "-------------------------------\n",
      "Khan: 63% 2218231\n"
     ]
    },
    {
     "ename": "ValueError",
     "evalue": "invalid literal for int() with base 10: ''",
     "output_type": "error",
     "traceback": [
      "\u001b[0;31m---------------------------------------------------------------------------\u001b[0m",
      "\u001b[0;31mValueError\u001b[0m                                Traceback (most recent call last)",
      "\u001b[0;32m<ipython-input-30-07256bf47f84>\u001b[0m in \u001b[0;36m<module>\u001b[0;34m\u001b[0m\n\u001b[1;32m     41\u001b[0m         \u001b[0mprint\u001b[0m\u001b[0;34m(\u001b[0m\u001b[0;34mf\"{candidato}: {int(Porcentaje_Votos)}% {Votes_Cast}\"\u001b[0m\u001b[0;34m)\u001b[0m\u001b[0;34m\u001b[0m\u001b[0;34m\u001b[0m\u001b[0m\n\u001b[1;32m     42\u001b[0m \u001b[0;34m\u001b[0m\u001b[0m\n\u001b[0;32m---> 43\u001b[0;31m         \u001b[0;32mif\u001b[0m \u001b[0mCandidatos\u001b[0m\u001b[0;34m[\u001b[0m\u001b[0mcandidato\u001b[0m\u001b[0;34m]\u001b[0m \u001b[0;34m>\u001b[0m \u001b[0mint\u001b[0m\u001b[0;34m(\u001b[0m\u001b[0mMas_Votado\u001b[0m\u001b[0;34m)\u001b[0m\u001b[0;34m:\u001b[0m\u001b[0;34m\u001b[0m\u001b[0;34m\u001b[0m\u001b[0m\n\u001b[0m\u001b[1;32m     44\u001b[0m             \u001b[0mMas_Votado\u001b[0m \u001b[0;34m=\u001b[0m \u001b[0mcandidato\u001b[0m\u001b[0;34m\u001b[0m\u001b[0;34m\u001b[0m\u001b[0m\n\u001b[1;32m     45\u001b[0m             \u001b[0mMas_Votado\u001b[0m \u001b[0;34m=\u001b[0m \u001b[0mCandidatos\u001b[0m\u001b[0;34m[\u001b[0m\u001b[0mcandidato\u001b[0m\u001b[0;34m]\u001b[0m\u001b[0;34m\u001b[0m\u001b[0;34m\u001b[0m\u001b[0m\n",
      "\u001b[0;31mValueError\u001b[0m: invalid literal for int() with base 10: ''"
     ]
    }
   ],
   "source": [
    "\n",
    "# Abrir el archivo CSV\n",
    "\n",
    "with open(file_path, newline=\"\") as csv_file:\n",
    "    csvreader = csv.reader(csv_file, delimiter=\",\")\n",
    "    csv_titulos = next(csv_file)\n",
    "    \n",
    " \n",
    "    # Definimos las Variables\n",
    "    \n",
    "    Candidatos = {}\n",
    "    Conteo = 0\n",
    "    Votes_Cast = 0\n",
    "    Porcentaje_Votos = 0\n",
    "    Mas_Votado = 0\n",
    "    Mas_Votado = \"\"\n",
    "    \n",
    "    \n",
    "    for row in csvreader:\n",
    "        \n",
    "        # Numero de Votos\n",
    "        candidato = row[2]\n",
    "        Conteo += 1\n",
    "        if candidato in Candidatos.keys():\n",
    "            Candidatos[candidato] += 1\n",
    "        else:\n",
    "            Candidatos[candidato] = 1\n",
    "      \n",
    "    \n",
    "    # Resultados\n",
    "    \n",
    "    print(\"Election Results\")\n",
    "    print(\"-------------------------------\")\n",
    "    print(f\"Total Votes: {Conteo}\")\n",
    "    print(\"-------------------------------\")\n",
    "    \n",
    "            \n",
    "    # Total de Votos por Candidato\n",
    "    \n",
    "    for candidato in Candidatos:\n",
    "        Votes_Cast += Candidatos[candidato]\n",
    "        Porcentaje_Votos = (Candidatos[candidato])/(Conteo) * 100\n",
    "        print(f\"{candidato}: {int(Porcentaje_Votos)}% {Votes_Cast}\")\n",
    "        \n",
    "        if Candidatos[candidato] > int(Mas_Votado):\n",
    "            Mas_Votado = candidato\n",
    "            Mas_Votado = Candidatos[candidato]   \n",
    "    \n",
    "    print(\"-------------------------------\")\n",
    "    \n",
    "    print(f\"Winner: {Mas_Votado}\")\n",
    "    \n",
    "    print(\"-------------------------------\")"
   ]
  }
 ],
 "metadata": {
  "kernelspec": {
   "display_name": "Python 3",
   "language": "python",
   "name": "python3"
  },
  "language_info": {
   "codemirror_mode": {
    "name": "ipython",
    "version": 3
   },
   "file_extension": ".py",
   "mimetype": "text/x-python",
   "name": "python",
   "nbconvert_exporter": "python",
   "pygments_lexer": "ipython3",
   "version": "3.7.4"
  }
 },
 "nbformat": 4,
 "nbformat_minor": 2
}
