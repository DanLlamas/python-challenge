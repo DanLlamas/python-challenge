{
 "cells": [
  {
   "cell_type": "code",
   "execution_count": 1,
   "metadata": {},
   "outputs": [],
   "source": [
    "# Modules\n",
    "import os\n",
    "import csv\n",
    "\n"
   ]
  },
  {
   "cell_type": "code",
   "execution_count": 2,
   "metadata": {},
   "outputs": [
    {
     "name": "stdout",
     "output_type": "stream",
     "text": [
      "./budget_data.csv\n"
     ]
    }
   ],
   "source": [
    "# Definir\n",
    "\n",
    "file_path = os.path.join(\".\", \"budget_data.csv\")\n",
    "print(file_path)\n",
    "\n"
   ]
  },
  {
   "cell_type": "code",
   "execution_count": 12,
   "metadata": {},
   "outputs": [
    {
     "name": "stdout",
     "output_type": "stream",
     "text": [
      "Financial Analysis\n",
      "-------------------------------\n",
      "Total Months:  86\n",
      "Net Total: $ 38382578\n",
      "Average Change: $ -2315.1176470588234\n",
      "Greatest Increase:  Jan-2012 ($ 1926159 )\n",
      "Greatest Decrease:  Aug-2013 ($ -2196167 )\n"
     ]
    }
   ],
   "source": [
    "# Abrir el archivo CSV\n",
    "\n",
    "with open(file_path, newline=\"\") as csv_file:\n",
    "    csvreader = csv.reader(csv_file, delimiter=\",\")\n",
    "    csv_titulos = next(csv_file)\n",
    "    \n",
    " # Definimos Variables\n",
    "\n",
    "    Meses = []\n",
    "    Perdidas = []\n",
    "    Diferencias = []\n",
    "    Greatest_Date = \"\"\n",
    "    Worst_Date = \"\"\n",
    "    \n",
    "    # Numero de meses\n",
    "    \n",
    "    for row in csvreader:\n",
    "        Meses.append(row[0])   \n",
    "        Perdidas.append(int(row[1]))\n",
    "      \n",
    "    \n",
    "    # Print Statements\n",
    "    print(\"Financial Analysis\")\n",
    "    print(\"-------------------------------\")\n",
    "    print(\"Total Months: \", len(Meses))\n",
    "    print(\"Net Total: $\", sum(Perdidas))\n",
    "    \n",
    "\n",
    "    for x in range(1, len(Perdidas)):\n",
    "        \n",
    "    # Find average change between months\n",
    "    \n",
    "        Diferencias.append(Perdidas[x] - Perdidas[x-1])\n",
    "        \n",
    "    # Calcular el cambio promedio de las diferencias\n",
    "    \n",
    "        Cambio_Promedio = sum(Diferencias) / len(Diferencias)\n",
    "        \n",
    "    # Determinar MAX y MIN\n",
    "    \n",
    "        Greatest_Increase = max(Diferencias)\n",
    "        Greatest_Date = str(Meses[Diferencias.index(max(Diferencias))])\n",
    "        \n",
    "        Greatest_Decrease = min(Diferencias)\n",
    "        Worst_Date = str(Meses[Diferencias.index(min(Diferencias))])\n",
    "        \n",
    "    # Output de Conclusiones\n",
    "    \n",
    "    print(\"Average Change: $\", Cambio_Promedio)  \n",
    "    print(\"Greatest Increase: \", Greatest_Date, \"($\", Greatest_Increase,\")\")\n",
    "    print(\"Greatest Decrease: \", Worst_Date, \"($\", Greatest_Decrease,\")\")\n",
    "   \n"
   ]
  },
  {
   "cell_type": "code",
   "execution_count": null,
   "metadata": {},
   "outputs": [],
   "source": []
  }
 ],
 "metadata": {
  "kernelspec": {
   "display_name": "Python 3",
   "language": "python",
   "name": "python3"
  },
  "language_info": {
   "codemirror_mode": {
    "name": "ipython",
    "version": 3
   },
   "file_extension": ".py",
   "mimetype": "text/x-python",
   "name": "python",
   "nbconvert_exporter": "python",
   "pygments_lexer": "ipython3",
   "version": "3.7.4"
  }
 },
 "nbformat": 4,
 "nbformat_minor": 2
}
